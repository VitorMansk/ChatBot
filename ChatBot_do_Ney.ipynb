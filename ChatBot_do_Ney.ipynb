{
  "cells": [
    {
      "cell_type": "markdown",
      "metadata": {
        "id": "view-in-github",
        "colab_type": "text"
      },
      "source": [
        "<a href=\"https://colab.research.google.com/github/VitorMansk/ChatBot/blob/main/ChatBot_do_Ney.ipynb\" target=\"_parent\"><img src=\"https://colab.research.google.com/assets/colab-badge.svg\" alt=\"Open In Colab\"/></a>"
      ]
    },
    {
      "cell_type": "code",
      "execution_count": 1,
      "metadata": {
        "colab": {
          "base_uri": "https://localhost:8080/"
        },
        "id": "WeXV_SM1zEDx",
        "outputId": "4835e596-c553-4295-aa05-d045dea46fc8"
      },
      "outputs": [
        {
          "output_type": "stream",
          "name": "stdout",
          "text": [
            "Requirement already satisfied: chatterbot in /usr/local/lib/python3.11/dist-packages (1.2.2)\n",
            "Requirement already satisfied: mathparse<0.2,>=0.1 in /usr/local/lib/python3.11/dist-packages (from chatterbot) (0.1.2)\n",
            "Requirement already satisfied: python-dateutil<2.10,>=2.9 in /usr/local/lib/python3.11/dist-packages (from chatterbot) (2.9.0.post0)\n",
            "Requirement already satisfied: sqlalchemy<2.1,>=2.0 in /usr/local/lib/python3.11/dist-packages (from chatterbot) (2.0.38)\n",
            "Requirement already satisfied: spacy<3.9,>=3.8 in /usr/local/lib/python3.11/dist-packages (from chatterbot) (3.8.4)\n",
            "Requirement already satisfied: tqdm in /usr/local/lib/python3.11/dist-packages (from chatterbot) (4.67.1)\n",
            "Requirement already satisfied: six>=1.5 in /usr/local/lib/python3.11/dist-packages (from python-dateutil<2.10,>=2.9->chatterbot) (1.17.0)\n",
            "Requirement already satisfied: spacy-legacy<3.1.0,>=3.0.11 in /usr/local/lib/python3.11/dist-packages (from spacy<3.9,>=3.8->chatterbot) (3.0.12)\n",
            "Requirement already satisfied: spacy-loggers<2.0.0,>=1.0.0 in /usr/local/lib/python3.11/dist-packages (from spacy<3.9,>=3.8->chatterbot) (1.0.5)\n",
            "Requirement already satisfied: murmurhash<1.1.0,>=0.28.0 in /usr/local/lib/python3.11/dist-packages (from spacy<3.9,>=3.8->chatterbot) (1.0.12)\n",
            "Requirement already satisfied: cymem<2.1.0,>=2.0.2 in /usr/local/lib/python3.11/dist-packages (from spacy<3.9,>=3.8->chatterbot) (2.0.11)\n",
            "Requirement already satisfied: preshed<3.1.0,>=3.0.2 in /usr/local/lib/python3.11/dist-packages (from spacy<3.9,>=3.8->chatterbot) (3.0.9)\n",
            "Requirement already satisfied: thinc<8.4.0,>=8.3.4 in /usr/local/lib/python3.11/dist-packages (from spacy<3.9,>=3.8->chatterbot) (8.3.4)\n",
            "Requirement already satisfied: wasabi<1.2.0,>=0.9.1 in /usr/local/lib/python3.11/dist-packages (from spacy<3.9,>=3.8->chatterbot) (1.1.3)\n",
            "Requirement already satisfied: srsly<3.0.0,>=2.4.3 in /usr/local/lib/python3.11/dist-packages (from spacy<3.9,>=3.8->chatterbot) (2.5.1)\n",
            "Requirement already satisfied: catalogue<2.1.0,>=2.0.6 in /usr/local/lib/python3.11/dist-packages (from spacy<3.9,>=3.8->chatterbot) (2.0.10)\n",
            "Requirement already satisfied: weasel<0.5.0,>=0.1.0 in /usr/local/lib/python3.11/dist-packages (from spacy<3.9,>=3.8->chatterbot) (0.4.1)\n",
            "Requirement already satisfied: typer<1.0.0,>=0.3.0 in /usr/local/lib/python3.11/dist-packages (from spacy<3.9,>=3.8->chatterbot) (0.15.1)\n",
            "Requirement already satisfied: numpy>=1.19.0 in /usr/local/lib/python3.11/dist-packages (from spacy<3.9,>=3.8->chatterbot) (1.26.4)\n",
            "Requirement already satisfied: requests<3.0.0,>=2.13.0 in /usr/local/lib/python3.11/dist-packages (from spacy<3.9,>=3.8->chatterbot) (2.32.3)\n",
            "Requirement already satisfied: pydantic!=1.8,!=1.8.1,<3.0.0,>=1.7.4 in /usr/local/lib/python3.11/dist-packages (from spacy<3.9,>=3.8->chatterbot) (2.10.6)\n",
            "Requirement already satisfied: jinja2 in /usr/local/lib/python3.11/dist-packages (from spacy<3.9,>=3.8->chatterbot) (3.1.5)\n",
            "Requirement already satisfied: setuptools in /usr/local/lib/python3.11/dist-packages (from spacy<3.9,>=3.8->chatterbot) (75.1.0)\n",
            "Requirement already satisfied: packaging>=20.0 in /usr/local/lib/python3.11/dist-packages (from spacy<3.9,>=3.8->chatterbot) (24.2)\n",
            "Requirement already satisfied: langcodes<4.0.0,>=3.2.0 in /usr/local/lib/python3.11/dist-packages (from spacy<3.9,>=3.8->chatterbot) (3.5.0)\n",
            "Requirement already satisfied: greenlet!=0.4.17 in /usr/local/lib/python3.11/dist-packages (from sqlalchemy<2.1,>=2.0->chatterbot) (3.1.1)\n",
            "Requirement already satisfied: typing-extensions>=4.6.0 in /usr/local/lib/python3.11/dist-packages (from sqlalchemy<2.1,>=2.0->chatterbot) (4.12.2)\n",
            "Requirement already satisfied: language-data>=1.2 in /usr/local/lib/python3.11/dist-packages (from langcodes<4.0.0,>=3.2.0->spacy<3.9,>=3.8->chatterbot) (1.3.0)\n",
            "Requirement already satisfied: annotated-types>=0.6.0 in /usr/local/lib/python3.11/dist-packages (from pydantic!=1.8,!=1.8.1,<3.0.0,>=1.7.4->spacy<3.9,>=3.8->chatterbot) (0.7.0)\n",
            "Requirement already satisfied: pydantic-core==2.27.2 in /usr/local/lib/python3.11/dist-packages (from pydantic!=1.8,!=1.8.1,<3.0.0,>=1.7.4->spacy<3.9,>=3.8->chatterbot) (2.27.2)\n",
            "Requirement already satisfied: charset-normalizer<4,>=2 in /usr/local/lib/python3.11/dist-packages (from requests<3.0.0,>=2.13.0->spacy<3.9,>=3.8->chatterbot) (3.4.1)\n",
            "Requirement already satisfied: idna<4,>=2.5 in /usr/local/lib/python3.11/dist-packages (from requests<3.0.0,>=2.13.0->spacy<3.9,>=3.8->chatterbot) (3.10)\n",
            "Requirement already satisfied: urllib3<3,>=1.21.1 in /usr/local/lib/python3.11/dist-packages (from requests<3.0.0,>=2.13.0->spacy<3.9,>=3.8->chatterbot) (2.3.0)\n",
            "Requirement already satisfied: certifi>=2017.4.17 in /usr/local/lib/python3.11/dist-packages (from requests<3.0.0,>=2.13.0->spacy<3.9,>=3.8->chatterbot) (2025.1.31)\n",
            "Requirement already satisfied: blis<1.3.0,>=1.2.0 in /usr/local/lib/python3.11/dist-packages (from thinc<8.4.0,>=8.3.4->spacy<3.9,>=3.8->chatterbot) (1.2.0)\n",
            "Requirement already satisfied: confection<1.0.0,>=0.0.1 in /usr/local/lib/python3.11/dist-packages (from thinc<8.4.0,>=8.3.4->spacy<3.9,>=3.8->chatterbot) (0.1.5)\n",
            "Requirement already satisfied: click>=8.0.0 in /usr/local/lib/python3.11/dist-packages (from typer<1.0.0,>=0.3.0->spacy<3.9,>=3.8->chatterbot) (8.1.8)\n",
            "Requirement already satisfied: shellingham>=1.3.0 in /usr/local/lib/python3.11/dist-packages (from typer<1.0.0,>=0.3.0->spacy<3.9,>=3.8->chatterbot) (1.5.4)\n",
            "Requirement already satisfied: rich>=10.11.0 in /usr/local/lib/python3.11/dist-packages (from typer<1.0.0,>=0.3.0->spacy<3.9,>=3.8->chatterbot) (13.9.4)\n",
            "Requirement already satisfied: cloudpathlib<1.0.0,>=0.7.0 in /usr/local/lib/python3.11/dist-packages (from weasel<0.5.0,>=0.1.0->spacy<3.9,>=3.8->chatterbot) (0.20.0)\n",
            "Requirement already satisfied: smart-open<8.0.0,>=5.2.1 in /usr/local/lib/python3.11/dist-packages (from weasel<0.5.0,>=0.1.0->spacy<3.9,>=3.8->chatterbot) (7.1.0)\n",
            "Requirement already satisfied: MarkupSafe>=2.0 in /usr/local/lib/python3.11/dist-packages (from jinja2->spacy<3.9,>=3.8->chatterbot) (3.0.2)\n",
            "Requirement already satisfied: marisa-trie>=1.1.0 in /usr/local/lib/python3.11/dist-packages (from language-data>=1.2->langcodes<4.0.0,>=3.2.0->spacy<3.9,>=3.8->chatterbot) (1.2.1)\n",
            "Requirement already satisfied: markdown-it-py>=2.2.0 in /usr/local/lib/python3.11/dist-packages (from rich>=10.11.0->typer<1.0.0,>=0.3.0->spacy<3.9,>=3.8->chatterbot) (3.0.0)\n",
            "Requirement already satisfied: pygments<3.0.0,>=2.13.0 in /usr/local/lib/python3.11/dist-packages (from rich>=10.11.0->typer<1.0.0,>=0.3.0->spacy<3.9,>=3.8->chatterbot) (2.18.0)\n",
            "Requirement already satisfied: wrapt in /usr/local/lib/python3.11/dist-packages (from smart-open<8.0.0,>=5.2.1->weasel<0.5.0,>=0.1.0->spacy<3.9,>=3.8->chatterbot) (1.17.2)\n",
            "Requirement already satisfied: mdurl~=0.1 in /usr/local/lib/python3.11/dist-packages (from markdown-it-py>=2.2.0->rich>=10.11.0->typer<1.0.0,>=0.3.0->spacy<3.9,>=3.8->chatterbot) (0.1.2)\n",
            "Requirement already satisfied: chatterbot_corpus in /usr/local/lib/python3.11/dist-packages (1.2.2)\n",
            "Requirement already satisfied: spacy in /usr/local/lib/python3.11/dist-packages (3.8.4)\n",
            "Requirement already satisfied: spacy-legacy<3.1.0,>=3.0.11 in /usr/local/lib/python3.11/dist-packages (from spacy) (3.0.12)\n",
            "Requirement already satisfied: spacy-loggers<2.0.0,>=1.0.0 in /usr/local/lib/python3.11/dist-packages (from spacy) (1.0.5)\n",
            "Requirement already satisfied: murmurhash<1.1.0,>=0.28.0 in /usr/local/lib/python3.11/dist-packages (from spacy) (1.0.12)\n",
            "Requirement already satisfied: cymem<2.1.0,>=2.0.2 in /usr/local/lib/python3.11/dist-packages (from spacy) (2.0.11)\n",
            "Requirement already satisfied: preshed<3.1.0,>=3.0.2 in /usr/local/lib/python3.11/dist-packages (from spacy) (3.0.9)\n",
            "Requirement already satisfied: thinc<8.4.0,>=8.3.4 in /usr/local/lib/python3.11/dist-packages (from spacy) (8.3.4)\n",
            "Requirement already satisfied: wasabi<1.2.0,>=0.9.1 in /usr/local/lib/python3.11/dist-packages (from spacy) (1.1.3)\n",
            "Requirement already satisfied: srsly<3.0.0,>=2.4.3 in /usr/local/lib/python3.11/dist-packages (from spacy) (2.5.1)\n",
            "Requirement already satisfied: catalogue<2.1.0,>=2.0.6 in /usr/local/lib/python3.11/dist-packages (from spacy) (2.0.10)\n",
            "Requirement already satisfied: weasel<0.5.0,>=0.1.0 in /usr/local/lib/python3.11/dist-packages (from spacy) (0.4.1)\n",
            "Requirement already satisfied: typer<1.0.0,>=0.3.0 in /usr/local/lib/python3.11/dist-packages (from spacy) (0.15.1)\n",
            "Requirement already satisfied: tqdm<5.0.0,>=4.38.0 in /usr/local/lib/python3.11/dist-packages (from spacy) (4.67.1)\n",
            "Requirement already satisfied: numpy>=1.19.0 in /usr/local/lib/python3.11/dist-packages (from spacy) (1.26.4)\n",
            "Requirement already satisfied: requests<3.0.0,>=2.13.0 in /usr/local/lib/python3.11/dist-packages (from spacy) (2.32.3)\n",
            "Requirement already satisfied: pydantic!=1.8,!=1.8.1,<3.0.0,>=1.7.4 in /usr/local/lib/python3.11/dist-packages (from spacy) (2.10.6)\n",
            "Requirement already satisfied: jinja2 in /usr/local/lib/python3.11/dist-packages (from spacy) (3.1.5)\n",
            "Requirement already satisfied: setuptools in /usr/local/lib/python3.11/dist-packages (from spacy) (75.1.0)\n",
            "Requirement already satisfied: packaging>=20.0 in /usr/local/lib/python3.11/dist-packages (from spacy) (24.2)\n",
            "Requirement already satisfied: langcodes<4.0.0,>=3.2.0 in /usr/local/lib/python3.11/dist-packages (from spacy) (3.5.0)\n",
            "Requirement already satisfied: language-data>=1.2 in /usr/local/lib/python3.11/dist-packages (from langcodes<4.0.0,>=3.2.0->spacy) (1.3.0)\n",
            "Requirement already satisfied: annotated-types>=0.6.0 in /usr/local/lib/python3.11/dist-packages (from pydantic!=1.8,!=1.8.1,<3.0.0,>=1.7.4->spacy) (0.7.0)\n",
            "Requirement already satisfied: pydantic-core==2.27.2 in /usr/local/lib/python3.11/dist-packages (from pydantic!=1.8,!=1.8.1,<3.0.0,>=1.7.4->spacy) (2.27.2)\n",
            "Requirement already satisfied: typing-extensions>=4.12.2 in /usr/local/lib/python3.11/dist-packages (from pydantic!=1.8,!=1.8.1,<3.0.0,>=1.7.4->spacy) (4.12.2)\n",
            "Requirement already satisfied: charset-normalizer<4,>=2 in /usr/local/lib/python3.11/dist-packages (from requests<3.0.0,>=2.13.0->spacy) (3.4.1)\n",
            "Requirement already satisfied: idna<4,>=2.5 in /usr/local/lib/python3.11/dist-packages (from requests<3.0.0,>=2.13.0->spacy) (3.10)\n",
            "Requirement already satisfied: urllib3<3,>=1.21.1 in /usr/local/lib/python3.11/dist-packages (from requests<3.0.0,>=2.13.0->spacy) (2.3.0)\n",
            "Requirement already satisfied: certifi>=2017.4.17 in /usr/local/lib/python3.11/dist-packages (from requests<3.0.0,>=2.13.0->spacy) (2025.1.31)\n",
            "Requirement already satisfied: blis<1.3.0,>=1.2.0 in /usr/local/lib/python3.11/dist-packages (from thinc<8.4.0,>=8.3.4->spacy) (1.2.0)\n",
            "Requirement already satisfied: confection<1.0.0,>=0.0.1 in /usr/local/lib/python3.11/dist-packages (from thinc<8.4.0,>=8.3.4->spacy) (0.1.5)\n",
            "Requirement already satisfied: click>=8.0.0 in /usr/local/lib/python3.11/dist-packages (from typer<1.0.0,>=0.3.0->spacy) (8.1.8)\n",
            "Requirement already satisfied: shellingham>=1.3.0 in /usr/local/lib/python3.11/dist-packages (from typer<1.0.0,>=0.3.0->spacy) (1.5.4)\n",
            "Requirement already satisfied: rich>=10.11.0 in /usr/local/lib/python3.11/dist-packages (from typer<1.0.0,>=0.3.0->spacy) (13.9.4)\n",
            "Requirement already satisfied: cloudpathlib<1.0.0,>=0.7.0 in /usr/local/lib/python3.11/dist-packages (from weasel<0.5.0,>=0.1.0->spacy) (0.20.0)\n",
            "Requirement already satisfied: smart-open<8.0.0,>=5.2.1 in /usr/local/lib/python3.11/dist-packages (from weasel<0.5.0,>=0.1.0->spacy) (7.1.0)\n",
            "Requirement already satisfied: MarkupSafe>=2.0 in /usr/local/lib/python3.11/dist-packages (from jinja2->spacy) (3.0.2)\n",
            "Requirement already satisfied: marisa-trie>=1.1.0 in /usr/local/lib/python3.11/dist-packages (from language-data>=1.2->langcodes<4.0.0,>=3.2.0->spacy) (1.2.1)\n",
            "Requirement already satisfied: markdown-it-py>=2.2.0 in /usr/local/lib/python3.11/dist-packages (from rich>=10.11.0->typer<1.0.0,>=0.3.0->spacy) (3.0.0)\n",
            "Requirement already satisfied: pygments<3.0.0,>=2.13.0 in /usr/local/lib/python3.11/dist-packages (from rich>=10.11.0->typer<1.0.0,>=0.3.0->spacy) (2.18.0)\n",
            "Requirement already satisfied: wrapt in /usr/local/lib/python3.11/dist-packages (from smart-open<8.0.0,>=5.2.1->weasel<0.5.0,>=0.1.0->spacy) (1.17.2)\n",
            "Requirement already satisfied: mdurl~=0.1 in /usr/local/lib/python3.11/dist-packages (from markdown-it-py>=2.2.0->rich>=10.11.0->typer<1.0.0,>=0.3.0->spacy) (0.1.2)\n"
          ]
        }
      ],
      "source": [
        "!pip install chatterbot\n",
        "!pip install chatterbot_corpus\n",
        "!pip install spacy"
      ]
    },
    {
      "cell_type": "code",
      "execution_count": 2,
      "metadata": {
        "id": "VjVh1Jj-frub"
      },
      "outputs": [],
      "source": [
        "from chatterbot import ChatBot #biblioteca do chatbot\n",
        "from chatterbot.trainers import ListTrainer #biblioteca de treino no chatbot\n",
        "from spacy.cli import download #biblioteca para resolver uns bugs do dispositivo\n",
        "\n"
      ]
    },
    {
      "cell_type": "code",
      "execution_count": 3,
      "metadata": {
        "colab": {
          "base_uri": "https://localhost:8080/"
        },
        "collapsed": true,
        "id": "oRn_fZtAhfWG",
        "outputId": "86275081-0131-4c3e-c58a-70b16a7a3b7b"
      },
      "outputs": [
        {
          "output_type": "stream",
          "name": "stdout",
          "text": [
            "\u001b[38;5;2m✔ Download and installation successful\u001b[0m\n",
            "You can now load the package via spacy.load('en_core_web_sm')\n",
            "\u001b[38;5;3m⚠ Restart to reload dependencies\u001b[0m\n",
            "If you are in a Jupyter or Colab notebook, you may need to restart Python in\n",
            "order to load all the package's dependencies. You can do this by selecting the\n",
            "'Restart kernel' or 'Restart runtime' option.\n"
          ]
        }
      ],
      "source": [
        "download(\"en_core_web_sm\")    #codigo para resolver um bug do SPACY para rodar o bot\n",
        "\n",
        "class ENGSM:\n",
        "    ISO_639_1 = 'en_core_web_sm'"
      ]
    },
    {
      "cell_type": "code",
      "execution_count": 4,
      "metadata": {
        "id": "WSgfeAwogwfd"
      },
      "outputs": [],
      "source": [
        "chatbot = ChatBot('Neymar') #criando o chatbot"
      ]
    },
    {
      "cell_type": "markdown",
      "metadata": {
        "id": "oJ1agy4ei5tp"
      },
      "source": [
        "#Criando e Treinando o ChatBot"
      ]
    },
    {
      "cell_type": "code",
      "execution_count": 5,
      "metadata": {
        "colab": {
          "base_uri": "https://localhost:8080/"
        },
        "id": "QBEb470hidwh",
        "outputId": "110ab678-11f7-49aa-f1b2-7eea8624e9c2"
      },
      "outputs": [
        {
          "output_type": "stream",
          "name": "stderr",
          "text": [
            "List Trainer: 83it [00:00, 391.74it/s]\n"
          ]
        }
      ],
      "source": [
        "conversa = [\n",
        "\n",
        "    \"Qual o maior campeão da Champions League?\",\n",
        "    \"O Real Madrid é o maior campeão da Champions League, com 14 títulos.\",\n",
        "\n",
        "    \"Quem ganhou a última Copa do Mundo?\",\n",
        "    \"A Argentina venceu a Copa do Mundo de 2022, derrotando a França nos pênaltis.\",\n",
        "\n",
        "    \"Quem é o maior artilheiro da história do futebol?\",\n",
        "    \"Cristiano Ronaldo é o maior artilheiro da história, com mais de 850 gols oficiais.\",\n",
        "\n",
        "    \"Quantas Copas do Mundo o Brasil tem?\",\n",
        "    \"O Brasil tem 5 títulos de Copa do Mundo, sendo o maior campeão do torneio.\",\n",
        "\n",
        "    \"Qual é o maior time do Brasil?\",\n",
        "    \"Isso é polêmico! Mas entre os mais vitoriosos estão Flamengo, Palmeiras, Santos e São Paulo.\",\n",
        "\n",
        "    \"Quem tem mais Libertadores: Flamengo ou Palmeiras?\",\n",
        "    \"O Palmeiras tem 3 Libertadores, enquanto o Flamengo tem 2.\",\n",
        "\n",
        "    \"Quem ganhou a primeira Copa do Mundo?\",\n",
        "    \"O Uruguai venceu a primeira Copa do Mundo, em 1930.\",\n",
        "\n",
        "    \"O Palmeiras tem Mundial?\",\n",
        "    \"Não, o Palmeiras ainda não conquistou um Mundial de Clubes FIFA.\",\n",
        "\n",
        "    \"Quem é melhor: Messi ou Cristiano Ronaldo?\",\n",
        "    \"Isso é uma grande discussão! Messi é mais técnico e tem 8 Bolas de Ouro. Cristiano é mais físico e tem recordes incríveis.\",\n",
        "\n",
        "    \"Qual é o maior artilheiro da seleção brasileira?\",\n",
        "    \"Neymar ultrapassou Pelé e se tornou o maior artilheiro da Seleção Brasileira.\",\n",
        "\n",
        "    \"Qual foi o placar do 7x1?\",\n",
        "    \"A Alemanha venceu o Brasil por 7 a 1 na semifinal da Copa do Mundo de 2014.\",\n",
        "\n",
        "    \"Quem é o rei do futebol?\",\n",
        "    \"Pelé é considerado o Rei do Futebol, com mais de 1.000 gols e 3 Copas do Mundo.\",\n",
        "\n",
        "    \"Quem tem mais títulos da Libertadores?\",\n",
        "    \"O Independiente, da Argentina, tem 7 títulos e é o maior campeão da Libertadores.\",\n",
        "\n",
        "    \"Qual foi a maior goleada da história do futebol?\",\n",
        "    \"O maior placar registrado foi 149 a 0, quando o AS Adema venceu o SOE Antananarivo em Madagascar.\",\n",
        "\n",
        "    \"Quem ganhou a Bola de Ouro de 2023?\",\n",
        "    \"Lionel Messi venceu a Bola de Ouro de 2023, sendo a sua 8ª conquista.\",\n",
        "\n",
        "    \"Quem é o melhor jogador da atualidade?\",\n",
        "    \"Atualmente, Messi, Haaland e Mbappé estão entre os melhores do mundo.\",\n",
        "\n",
        "    \"O que é impedimento?\",\n",
        "    \"Impedimento ocorre quando um jogador recebe a bola estando à frente do penúltimo defensor, exceto em tiros de meta, laterais e escanteios.\",\n",
        "\n",
        "    \"Quem é o maior ídolo do Santos?\",\n",
        "    \"O maior ídolo do Santos é Pelé, que jogou a maior parte da carreira no clube.\",\n",
        "\n",
        "    \"Qual é o maior clássico do futebol brasileiro?\",\n",
        "    \"Os maiores clássicos são Flamengo x Vasco, Palmeiras x Corinthians, Grêmio x Internacional, entre outros.\",\n",
        "\n",
        "    \"Quantos mundiais o Santos tem?\",\n",
        "    \"O Santoos tem 2 Mundiais: um em 1962 e outro em 1963.\",\n",
        "\n",
        "    \"Quem é o maior artilheiro da história do Flamengo?\",\n",
        "    \"Zico é o maior artilheiro do Flamengo, com mais de 500 gols pelo clube.\",\n",
        "\n",
        "    \"Qual jogador mais ganhou a Champions League?\",\n",
        "    \"Francisco Gento, do Real Madrid, venceu a Champions 6 vezes.\",\n",
        "\n",
        "    \"Qual foi o maior jogador do Barcelona?\",\n",
        "    \"Lionel Messi é considerado o maior jogador da história do Barcelona.\"\n",
        "\n",
        "    \"Qual foi a maior goleada da Copa do Mundo?\",\n",
        "    \"Hungria 10x1 El Salvador, na Copa de 1982, foi a maior goleada da história do torneio.\",\n",
        "\n",
        "    \"Quem são os três maiores artilheiros da história da Seleção Brasileira?\",\n",
        "    \"Neymar, Pelé e Ronaldo Fenômeno são os três maiores artilheiros do Brasil.\",\n",
        "\n",
        "    \"Qual é o estádio de futebol mais famoso do mundo?\",\n",
        "    \"O Estádio do Maracanã, no Brasil, e o Camp Nou, na Espanha, estão entre os mais famosos.\",\n",
        "\n",
        "    \"Qual é o maior clássico do futebol mundial?\",\n",
        "    \"El Clásico entre Barcelona e Real Madrid é um dos maiores clássicos do mundo.\",\n",
        "\n",
        "    \"Quem ganhou a Copa do Mundo de 2014?\",\n",
        "    \"A Alemanha venceu a Copa de 2014, derrotando a Argentina na final por 1 a 0.\",\n",
        "\n",
        "    \"Quantos times disputam a Premier League?\",\n",
        "    \"A Premier League tem 20 clubes em cada temporada.\",\n",
        "\n",
        "    \"Quem é o técnico com mais títulos da Champions League?\",\n",
        "    \"Carlo Ancelotti é o técnico com mais títulos da Champions League, com 4 conquistas.\",\n",
        "\n",
        "    \"Qual foi o gol mais rápido da história do futebol?\",\n",
        "    \"O gol mais rápido registrado foi de Nawaf Al-Abed, que marcou aos 2,4 segundos de jogo.\",\n",
        "\n",
        "    \"Quem ganhou a primeira edição da Premier League?\",\n",
        "    \"O Manchester United venceu a primeira edição da Premier League em 1992/93.\",\n",
        "\n",
        "    \"Qual jogador ganhou mais vezes a Bola de Ouro?\",\n",
        "    \"Lionel Messi venceu a Bola de Ouro 8 vezes, sendo o recordista.\",\n",
        "\n",
        "    \"Quem foi o primeiro brasileiro a ganhar uma Bola de Ouro?\",\n",
        "    \"Rivaldo foi o primeiro brasileiro a ganhar a Bola de Ouro, em 1999.\",\n",
        "\n",
        "    \"Quem foi o primeiro jogador a marcar um hat-trick em Copa do Mundo?\",\n",
        "    \"O primeiro hat-trick da história das Copas foi marcado por Bert Patenaude, dos EUA, em 1930.\",\n",
        "\n",
        "    \"Quantos títulos da Libertadores tem o Boca Juniors?\",\n",
        "    \"O Boca Juniors tem 6 títulos da Libertadores.\",\n",
        "\n",
        "    \"Quantas vezes o Santos foi campeão da Libertadores?\",\n",
        "    \"O Santos tem 3 títulos da Libertadores: 1962, 1963 e 2011.\",\n",
        "\n",
        "    \"Qual seleção venceu a Copa do Mundo sem sofrer gols?\",\n",
        "    \"A Itália, em 1938, foi campeã sem sofrer gols.\",\n",
        "\n",
        "    \"Qual foi a maior virada da história da Champions League?\",\n",
        "    \"O Barcelona virou um 4x0 contra o PSG para um 6x1, nas oitavas de final da Champions League 2016/17.\",\n",
        "\n",
        "    \"Quem foi o jogador mais jovem a jogar uma Copa do Mundo?\",\n",
        "    \"Norman Whiteside, da Irlanda do Norte, jogou com 17 anos na Copa de 1982.\",\n",
        "\n",
        "    \"Quem foi o jogador mais velho a marcar um gol em Copa do Mundo?\",\n",
        "    \"Roger Milla, de Camarões, marcou um gol na Copa de 1994 com 42 anos.\",\n",
        "\n",
        "    \"Qual o maior número de gols marcados em uma única edição da Copa do Mundo?\",\n",
        "    \"Just Fontaine, da França, marcou 13 gols na Copa de 1958, um recorde até hoje.\"\n",
        "]\n",
        "\n",
        "trainer = ListTrainer(chatbot) #treinando o chatbot para as conversas desejadas acima\n",
        "trainer.train(conversa)"
      ]
    },
    {
      "cell_type": "markdown",
      "metadata": {
        "id": "J8hLa_lmja-q"
      },
      "source": [
        "#Criando o chat de interação para o bot"
      ]
    },
    {
      "cell_type": "code",
      "execution_count": null,
      "metadata": {
        "colab": {
          "base_uri": "https://localhost:8080/"
        },
        "id": "DL40jHJ-jVc0",
        "outputId": "0335d17e-58a9-47f0-eb0f-cf8d746d0f1c"
      },
      "outputs": [
        {
          "output_type": "stream",
          "name": "stdout",
          "text": [
            "Pergunte algo para o Ney: Qual o maior time do Brasil?\n",
            "Isso é polêmico! Mas entre os mais vitoriosos estão Flamengo, Palmeiras, Santos e São Paulo.\n",
            "Pergunte algo para o Ney: Qual o maior vencedor da Champions League?\n",
            "O Real Madrid é o maior campeão da Champions League, com 14 títulos.\n",
            "Pergunte algo para o Ney: Quem foi o jogador mais velho a marcar um gol na Copa do Mundo?\n",
            "Roger Milla, de Camarões, marcou um gol na Copa de 1994 com 42 anos.\n",
            "Pergunte algo para o Ney: Qual o maior números de gols, marcados em uma única edição da Copa do Mundo?\n",
            "Just Fontaine, da França, marcou 13 gols na Copa de 1958, um recorde até hoje.\n"
          ]
        }
      ],
      "source": [
        "while True:\n",
        "    mensagem = input(\"Pergunte algo para o Ney: \")\n",
        "    if mensagem == \"Sair\":\n",
        "        break\n",
        "    resposta = chatbot.get_response(mensagem)\n",
        "    print(resposta)"
      ]
    },
    {
      "cell_type": "code",
      "execution_count": null,
      "metadata": {
        "id": "sm0HzODA2zbF"
      },
      "outputs": [],
      "source": []
    }
  ],
  "metadata": {
    "colab": {
      "provenance": [],
      "include_colab_link": true
    },
    "kernelspec": {
      "display_name": "Python 3",
      "name": "python3"
    },
    "language_info": {
      "name": "python"
    }
  },
  "nbformat": 4,
  "nbformat_minor": 0
}